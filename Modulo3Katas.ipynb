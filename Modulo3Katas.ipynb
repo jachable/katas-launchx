{
 "cells": [
  {
   "cell_type": "code",
   "execution_count": 5,
   "metadata": {},
   "outputs": [
    {
     "name": "stdout",
     "output_type": "stream",
     "text": [
      "Alerta la velocidad del asteroide es 29\n"
     ]
    }
   ],
   "source": [
    "# Añadir el código necesario para crear una variable que guarde la velocidad del asteroide.\n",
    "# Escribe una expresión de prueba para calcular si necesita una advertencia.\n",
    "# Agregue las instrucciones que se ejecutarán si la expresión de prueba es true o false.\n",
    "velocity = 29\n",
    "if velocity > 25:\n",
    "    print('Alerta la velocidad del asteroide es ' + str(velocity))\n",
    "else:\n",
    "    print('Sin reportes, disfruta tu día')"
   ]
  },
  {
   "cell_type": "code",
   "execution_count": 9,
   "metadata": {},
   "outputs": [
    {
     "name": "stdout",
     "output_type": "stream",
     "text": [
      "Sin reportes, disfruta tu día\n"
     ]
    }
   ],
   "source": [
    "# Agrega el código para crear una variable para un asteroide que viaja a 19 km/s\n",
    "# Escribe varias expresiones de prueba para determinar si puedes ver el rayo de luz desde la tierra\n",
    "# Agrega las instrucciones que se ejecutarán si las expresiones de prueba son True o False\n",
    "velocity = 19\n",
    "if velocity > 25:\n",
    "    print('Alerta la velocidad del asteroide es ' + str(velocity))\n",
    "elif velocity >= 20:\n",
    "    print('Busca un asteroide en el cielo, es un rayo de luz!')\n",
    "else:\n",
    "    print('Sin reportes, disfruta tu día')"
   ]
  },
  {
   "cell_type": "code",
   "execution_count": 16,
   "metadata": {},
   "outputs": [
    {
     "name": "stdout",
     "output_type": "stream",
     "text": [
      "Busca un asteroide en el cielo, es un rayo de luz!\n",
      "Peligro inminente\n"
     ]
    }
   ],
   "source": [
    "#*Los asteroides de menos de 25 metros en su dimensión más grande probablemente se quemarán a medida que entren en la atmósfera de la Tierra.\n",
    "#Si una pieza de un asteroide que es más grande que 25 metros pero más pequeña que 1000 metros golpeara la Tierra, causaría mucho daño.\n",
    "#También discutimos en el ejercicio anterior que:\n",
    "\n",
    "#La velocidad del asteroide varía en función de lo cerca que esté del sol, y cualquier velocidad superior a 25 kilómetros por segundo (km/s) merece una advertencia. #Si un asteroide entra en la atmósfera de la Tierra a una velocidad mayor o igual a 20 km/s, a veces produce un rayo de luz que se puede ver desde la Tierra.\n",
    "\n",
    "dimension = 40 #desastre > 25 and < 1000\n",
    "velocity = 25  #advertencia > 25\n",
    "              #rayo de luz >= 20 \n",
    "\n",
    "if dimension >= 1000:\n",
    "    print('El Armageddon llego XD')\n",
    "elif dimension >= 25 and dimension < 1000:\n",
    "    if velocity >= 20:\n",
    "        print('Busca un asteroide en el cielo, es un rayo de luz!')\n",
    "    print('Peligro inminente')\n",
    "else:\n",
    "    print('Sin reportes, disfruta tu día')\n"
   ]
  }
 ],
 "metadata": {
  "interpreter": {
   "hash": "1fa4f1fd67ad6334bf2234673945fa4d40c8fc8752d071cf3df3c43e76c565ca"
  },
  "kernelspec": {
   "display_name": "Python 3.10.2 64-bit",
   "language": "python",
   "name": "python3"
  },
  "language_info": {
   "codemirror_mode": {
    "name": "ipython",
    "version": 3
   },
   "file_extension": ".py",
   "mimetype": "text/x-python",
   "name": "python",
   "nbconvert_exporter": "python",
   "pygments_lexer": "ipython3",
   "version": "3.10.2"
  },
  "orig_nbformat": 4
 },
 "nbformat": 4,
 "nbformat_minor": 2
}
