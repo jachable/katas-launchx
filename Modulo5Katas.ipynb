{
 "cells": [
  {
   "cell_type": "code",
   "execution_count": 3,
   "metadata": {},
   "outputs": [
    {
     "name": "stdout",
     "output_type": "stream",
     "text": [
      "Distancia desde el Sol del primer planeta: 92900277.27\n",
      "Distancia desde el Sol del segundo planeta: 483477811.2\n"
     ]
    }
   ],
   "source": [
    "# Crear variables para almacenar las dos distancias\n",
    "# ¡Asegúrate de quitar las comas!\n",
    "distancia1 = 149597870\n",
    "distancia2 = 778547200\n",
    "\n",
    "print(f'Distancia desde el Sol del primer planeta: {distancia1}')\n",
    "print(f'Distancia desde el Sol del segundo planeta: {distancia2}')"
   ]
  },
  {
   "cell_type": "code",
   "execution_count": 5,
   "metadata": {},
   "outputs": [
    {
     "name": "stdout",
     "output_type": "stream",
     "text": [
      "Distancia entre planetas en kms: 628949330\n",
      "Distancia entre planetas en millas: 390577533.93 \n"
     ]
    }
   ],
   "source": [
    "# Calcular la distancia entre planetas\n",
    "distancia_kms = distancia1 - distancia2\n",
    "print(f'Distancia entre planetas en kms: {abs(distancia_kms)}')\n",
    "print(f'Distancia entre planetas en millas: {abs(distancia_kms) * 0.621} ')"
   ]
  },
  {
   "cell_type": "code",
   "execution_count": 11,
   "metadata": {},
   "outputs": [
    {
     "name": "stdout",
     "output_type": "stream",
     "text": [
      "Distancia en millas entre los planetas: 1007634600\n"
     ]
    }
   ],
   "source": [
    "from math import ceil, floor\n",
    "distancia1 = input('Distancia en Kms desde el Sol del primer planeta:')\n",
    "distancia2 = input('Distancia en Kms desde el Sol del segundo planeta:')\n",
    "\n",
    "diferencia = int(distancia1) - int(distancia2)\n",
    "\n",
    "print(f'Distancia en millas entre los planetas: {floor(abs(diferencia)*0.621)}')"
   ]
  }
 ],
 "metadata": {
  "interpreter": {
   "hash": "1fa4f1fd67ad6334bf2234673945fa4d40c8fc8752d071cf3df3c43e76c565ca"
  },
  "kernelspec": {
   "display_name": "Python 3.10.2 64-bit",
   "language": "python",
   "name": "python3"
  },
  "language_info": {
   "codemirror_mode": {
    "name": "ipython",
    "version": 3
   },
   "file_extension": ".py",
   "mimetype": "text/x-python",
   "name": "python",
   "nbconvert_exporter": "python",
   "pygments_lexer": "ipython3",
   "version": "3.10.2"
  },
  "orig_nbformat": 4
 },
 "nbformat": 4,
 "nbformat_minor": 2
}
