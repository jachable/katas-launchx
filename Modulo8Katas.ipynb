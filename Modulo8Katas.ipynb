{
 "cells": [
  {
   "cell_type": "code",
   "execution_count": 15,
   "metadata": {},
   "outputs": [
    {
     "name": "stdout",
     "output_type": "stream",
     "text": [
      "name: Mars\n",
      "moons: 2\n",
      "El Planeta Mars tiene 2 lunas\n",
      "Circunferencia Polar: 6752\n",
      "name: Mars\n",
      "moons: 2\n",
      "polar: 6752\n",
      "equatorial: 6792\n"
     ]
    }
   ],
   "source": [
    "# Crea un diccionario llamado planet con los datos propuestos\n",
    "planet = {\n",
    "    'name': 'Mars',\n",
    "    'moons': 2\n",
    "}\n",
    "\n",
    "nombre = planet.keys();\n",
    "\n",
    "# Muestra el nombre del planeta y el número de lunas que tiene.\n",
    "for clave in nombre:\n",
    "    print(f'{clave}: {planet[clave]}')\n",
    "\n",
    "print(f'El Planeta {planet[\"name\"]} tiene {planet[\"moons\"]} lunas')\n",
    "\n",
    "# Agrega la clave circunferencia con los datos proporcionados previamente\n",
    "if 'circunferencia (km)' in planet:\n",
    "    planet['circunferencia (km)']['polar'] = 6752\n",
    "    planet['circunferencia (km)']['equatorial'] = 6792\n",
    "else:\n",
    "    planet['circunferencia (km)'] = {\n",
    "        'polar': 6752,\n",
    "        'equatorial': 6792\n",
    "    }\n",
    "\n",
    "# Imprime el nombre del planeta con su circunferencia polar.\n",
    "\n",
    "print(f'El Planeta {planet[\"name\"]} tiene {planet[\"moons\"]} lunas')\n",
    "print(f'Circunferencia Polar:', planet['circunferencia (km)']['polar'])\n",
    "\n",
    "# Imprime todos los valores (hasta dos niveles)\n",
    "for clave in nombre:\n",
    "    if isinstance(planet[clave], dict):\n",
    "        for mykey in planet[clave].keys():\n",
    "            print(f'{mykey}: {planet[clave][mykey]}')\n",
    "    else:\n",
    "        print(f'{clave}: {planet[clave]}')"
   ]
  },
  {
   "cell_type": "code",
   "execution_count": 16,
   "metadata": {},
   "outputs": [
    {
     "name": "stdout",
     "output_type": "stream",
     "text": [
      "Número de lunas en planetas: 214\n",
      "Promedio de lunas por planeta 18\n"
     ]
    }
   ],
   "source": [
    "from math import ceil, floor\n",
    "# Planets and moons\n",
    "planet_moons = {\n",
    "    'mercury': 0,\n",
    "    'venus': 0,\n",
    "    'earth': 1,\n",
    "    'mars': 2,\n",
    "    'jupiter': 79,\n",
    "    'saturn': 82,\n",
    "    'uranus': 27,\n",
    "    'neptune': 14,\n",
    "    'pluto': 5,\n",
    "    'haumea': 2,    #moon\n",
    "    'makemake': 1,  #moon\n",
    "    'eris': 1       #moon\n",
    "}\n",
    "\n",
    "# Añade el código para determinar el número de lunas.\n",
    "moons = planet_moons.values()\n",
    "planets = len(planet_moons.keys())\n",
    "total_moons = 0\n",
    "\n",
    "# Agrega el código para contar el número de lunas.\n",
    "for moon in moons:\n",
    "    total_moons = total_moons + moon\n",
    "\n",
    "print(f'Número de lunas en planetas: {total_moons}')\n",
    "\n",
    "# Promedio de lunas por planetas\n",
    "print(f'Promedio de lunas por planeta {ceil(total_moons/planets)}')"
   ]
  }
 ],
 "metadata": {
  "interpreter": {
   "hash": "1fa4f1fd67ad6334bf2234673945fa4d40c8fc8752d071cf3df3c43e76c565ca"
  },
  "kernelspec": {
   "display_name": "Python 3.10.2 64-bit",
   "language": "python",
   "name": "python3"
  },
  "language_info": {
   "codemirror_mode": {
    "name": "ipython",
    "version": 3
   },
   "file_extension": ".py",
   "mimetype": "text/x-python",
   "name": "python",
   "nbconvert_exporter": "python",
   "pygments_lexer": "ipython3",
   "version": "3.10.2"
  },
  "orig_nbformat": 4
 },
 "nbformat": 4,
 "nbformat_minor": 2
}
