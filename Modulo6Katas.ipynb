{
 "cells": [
  {
   "cell_type": "code",
   "execution_count": 44,
   "metadata": {},
   "outputs": [
    {
     "name": "stdout",
     "output_type": "stream",
     "text": [
      "Hay 8 planetas en el sistema solar\n"
     ]
    }
   ],
   "source": [
    "# Creamos la lista planets y la mostramos\n",
    "planets = ['Mercury', 'Venus', 'Earth', 'Mars', 'Jupiter', 'Saturn', 'Uranus', 'Neptune']\n",
    "print('Hay', len(planets), 'planetas en el sistema solar')"
   ]
  },
  {
   "cell_type": "code",
   "execution_count": 45,
   "metadata": {},
   "outputs": [
    {
     "name": "stdout",
     "output_type": "stream",
     "text": [
      "Total planetas: 9\n",
      "Último planeta: Pluto\n"
     ]
    }
   ],
   "source": [
    "#Agregamos a plutón y mostramos el último elemento\n",
    "planets.append('Pluto')\n",
    "print('Total planetas:', len(planets))\n",
    "print(f'Último planeta: {planets[-1]}')"
   ]
  },
  {
   "cell_type": "code",
   "execution_count": 26,
   "metadata": {},
   "outputs": [
    {
     "name": "stdout",
     "output_type": "stream",
     "text": [
      "Mercury\n",
      "Venus\n",
      "Earth\n",
      "Mars\n",
      "Jupiter\n",
      "Saturn\n",
      "Neptune\n"
     ]
    }
   ],
   "source": [
    "# Lista de planetas\n",
    "planets = ['Mercury', 'Venus', 'Earth', 'Mars', 'Jupiter', 'Saturn', 'Neptune']\n",
    "\n",
    "for planeta in planets:\n",
    "    print(planeta)"
   ]
  },
  {
   "cell_type": "code",
   "execution_count": 34,
   "metadata": {},
   "outputs": [
    {
     "name": "stdout",
     "output_type": "stream",
     "text": [
      "Earth es el planeta # 3 desde el sol\n"
     ]
    }
   ],
   "source": [
    "# Solicitamos el nombre de un planeta\n",
    "myplanet = input('Nombre de un planeta').title()\n",
    "# Busca el planeta en la lista\n",
    "posicion = -1\n",
    "try:\n",
    "    posicion = planets.index(myplanet)\n",
    "except ValueError:\n",
    "# Corrección de índice cuando no encuentra el planeta\n",
    "    if posicion == -1:\n",
    "        posicion = 0\n",
    "        myplanet = planets[0]\n",
    "\n",
    "print(f'{myplanet} es el planeta #', posicion + 1, 'desde el sol')"
   ]
  },
  {
   "cell_type": "code",
   "execution_count": 35,
   "metadata": {},
   "outputs": [
    {
     "name": "stdout",
     "output_type": "stream",
     "text": [
      "Mercury\n",
      "Venus\n",
      "Earth\n"
     ]
    }
   ],
   "source": [
    "# Muestra los planetas más cercanos al sol\n",
    "\n",
    "before_sun = planets[0:posicion+1]\n",
    "for first in before_sun:\n",
    "    print(first)"
   ]
  },
  {
   "cell_type": "code",
   "execution_count": 37,
   "metadata": {},
   "outputs": [
    {
     "name": "stdout",
     "output_type": "stream",
     "text": [
      "Mars\n",
      "Jupiter\n",
      "Saturn\n",
      "Neptune\n"
     ]
    }
   ],
   "source": [
    "# Muestra los planetas más lejanos al sol\n",
    "after_sun = planets[posicion+1:]\n",
    "for lastest in after_sun:\n",
    "    print(lastest)"
   ]
  }
 ],
 "metadata": {
  "interpreter": {
   "hash": "1fa4f1fd67ad6334bf2234673945fa4d40c8fc8752d071cf3df3c43e76c565ca"
  },
  "kernelspec": {
   "display_name": "Python 3.10.2 64-bit",
   "language": "python",
   "name": "python3"
  },
  "language_info": {
   "codemirror_mode": {
    "name": "ipython",
    "version": 3
   },
   "file_extension": ".py",
   "mimetype": "text/x-python",
   "name": "python",
   "nbconvert_exporter": "python",
   "pygments_lexer": "ipython3",
   "version": "3.10.2"
  },
  "orig_nbformat": 4
 },
 "nbformat": 4,
 "nbformat_minor": 2
}
