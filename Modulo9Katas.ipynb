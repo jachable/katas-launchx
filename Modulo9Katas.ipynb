{
 "cells": [
  {
   "cell_type": "code",
   "execution_count": 40,
   "metadata": {},
   "outputs": [
    {
     "name": "stdout",
     "output_type": "stream",
     "text": [
      "Reporte de combustible\n",
      "Tanque #1 cantidad: 7\n",
      "Tanque #2 cantidad: 7\n",
      "Tanque #3 cantidad: 7\n",
      "Promedio de combustible: 7\n"
     ]
    }
   ],
   "source": [
    "# Función para leer 3 tanques de combustible y muestre el promedio\n",
    "\n",
    "def list_tank():\n",
    "    fuel_tank = []\n",
    "    pending = True\n",
    "\n",
    "    while pending:\n",
    "        lecture = input(f'Lectura del tanque {len(fuel_tank) + 1}: ')\n",
    "        if lecture.isdigit():\n",
    "            fuel_tank.append(int(lecture))\n",
    "\n",
    "        if len(fuel_tank) == 3:\n",
    "            pending = False\n",
    "    \n",
    "    numero = 0\n",
    "    if len(fuel_tank) > 0:\n",
    "        print('Reporte de combustible')\n",
    "        for tank in fuel_tank:\n",
    "            numero = numero + 1\n",
    "            print(f'Tanque #{numero} cantidad: {tank}')\n",
    "            \n",
    "    print(f'Promedio de combustible: {round(sum(tanks)/ len(tanks))}')\n",
    "\n",
    "    return fuel_tank\n",
    "\n",
    "tanks = list_tank()"
   ]
  },
  {
   "cell_type": "code",
   "execution_count": 41,
   "metadata": {},
   "outputs": [
    {
     "name": "stdout",
     "output_type": "stream",
     "text": [
      "Promedio de combustible: 7\n"
     ]
    }
   ],
   "source": [
    "# Función promedio\n",
    "def average_fuel(tanks):\n",
    "    print(f'Promedio de combustible: {round(sum(tanks)/ len(tanks))}')\n",
    "\n",
    "average_fuel(tanks)"
   ]
  },
  {
   "cell_type": "code",
   "execution_count": 46,
   "metadata": {},
   "outputs": [
    {
     "name": "stdout",
     "output_type": "stream",
     "text": [
      "Reporte de combustible\n",
      "Tanque #1 cantidad: 80\n",
      "Tanque #2 cantidad: 90\n",
      "Tanque #3 cantidad: 100\n",
      "Promedio de combustible: 90\n"
     ]
    }
   ],
   "source": [
    "# Actualiza la función\n",
    "def list_tank_upgrade(tank1, tank2, tank3):\n",
    "    fuel_tank = [tank1, tank2, tank3]\n",
    "    \n",
    "    numero = 0\n",
    "    print('Reporte de combustible')\n",
    "    for tank in fuel_tank:\n",
    "        numero = numero + 1\n",
    "        print(f'Tanque #{numero} cantidad: {tank}')\n",
    "\n",
    "    average_fuel(fuel_tank)\n",
    "\n",
    "    return fuel_tank\n",
    "\n",
    "result = list_tank_upgrade(80,90,100)"
   ]
  },
  {
   "cell_type": "code",
   "execution_count": 51,
   "metadata": {},
   "outputs": [
    {
     "name": "stdout",
     "output_type": "stream",
     "text": [
      "\n",
      "            Nombre del destino Marte\n",
      "            Hora de prelanzamiento 14\n",
      "            Tiempo hasta el destino 25 minutos\n",
      "            Combustible Tanque externo 92310 lts\n",
      "            Combustible Tanque interno 98434 lts\n",
      "        \n"
     ]
    }
   ],
   "source": [
    "# Función con un informe preciso de la misión. Considera hora de prelanzamiento, tiempo de vuelo, destino, tanque externo y tanque interno\n",
    "# Hora de prelanzamiento, tiempo hasta el destino, tanque externo, tanque interno, nombre del destino\n",
    "def reporte_mision(**parametros):\n",
    "        print(f'''\n",
    "            Nombre del destino {parametros['destino']}\n",
    "            Hora de prelanzamiento {parametros['hora_prelanzamiento']}\n",
    "            Tiempo hasta el destino {parametros['tiempo_destino']} minutos\n",
    "            Combustible Tanque externo {parametros['tanque_externo']} lts\n",
    "            Combustible Tanque interno {parametros['tanque_interno']} lts\n",
    "        ''')\n",
    "\n",
    "reporte_mision(hora_prelanzamiento = 14, tiempo_destino=25, tanque_externo=92310, tanque_interno=98434, destino='Marte')"
   ]
  },
  {
   "cell_type": "code",
   "execution_count": 55,
   "metadata": {},
   "outputs": [
    {
     "name": "stdout",
     "output_type": "stream",
     "text": [
      "\n",
      "            Nombre del destino Luna\n",
      "            Tiempo de viaje 50 minutos\n",
      "            Total de combustible 282855 lts\n",
      "        \n"
     ]
    }
   ],
   "source": [
    "# Escribe tu nueva función de reporte considerando:\n",
    "# La función sea más legible con el uso de nombres de variables que están asociados con las entradas: *minutes y **fuel_reservoirs\n",
    "def reporte_mision(destino, *minutos, **tanques):\n",
    "        print(f'''\n",
    "            Nombre del destino {destino}\n",
    "            Tiempo de viaje {sum(minutos)} minutos\n",
    "            Total de combustible {sum(tanques.values())} lts\n",
    "        ''')\n",
    "\n",
    "reporte_mision('Luna', 25,10,15, tanque_princial=92310, tanque_secundario=98434, tanque_reserva=92111)"
   ]
  },
  {
   "cell_type": "code",
   "execution_count": 60,
   "metadata": {},
   "outputs": [
    {
     "name": "stdout",
     "output_type": "stream",
     "text": [
      "\n",
      "            Nombre del destino Urano\n",
      "            Tiempo de viaje 58 minutos\n",
      "        \n",
      "El tanque tanque_principal tiene una capacidad de 92310 litros\n",
      "El tanque tanque_secundario tiene una capacidad de 98434 litros\n",
      "El tanque tanque_reserva tiene una capacidad de 92111 litros\n"
     ]
    }
   ],
   "source": [
    "# Escribe tu nueva función\n",
    "# El combustible de los tanques es específico de cada tanque, actualiza la función para usar el nombre de cada tanque en el informe\n",
    "def reporte_mision(destino, *minutos, **tanques):\n",
    "        print(f'''\n",
    "            Nombre del destino {destino}\n",
    "            Tiempo de viaje {sum(minutos)} minutos\n",
    "        ''')\n",
    "        for tank, contenido in tanques.items():\n",
    "            print(f'El tanque {tank} tiene una capacidad de {contenido} litros')\n",
    "\n",
    "reporte_mision('Urano', 23,15,15,5, tanque_principal=92310, tanque_secundario=98434, tanque_reserva=92111)"
   ]
  }
 ],
 "metadata": {
  "interpreter": {
   "hash": "1fa4f1fd67ad6334bf2234673945fa4d40c8fc8752d071cf3df3c43e76c565ca"
  },
  "kernelspec": {
   "display_name": "Python 3.10.2 64-bit",
   "language": "python",
   "name": "python3"
  },
  "language_info": {
   "codemirror_mode": {
    "name": "ipython",
    "version": 3
   },
   "file_extension": ".py",
   "mimetype": "text/x-python",
   "name": "python",
   "nbconvert_exporter": "python",
   "pygments_lexer": "ipython3",
   "version": "3.10.2"
  },
  "orig_nbformat": 4
 },
 "nbformat": 4,
 "nbformat_minor": 2
}
